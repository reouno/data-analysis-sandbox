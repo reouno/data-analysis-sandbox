{
 "cells": [
  {
   "cell_type": "markdown",
   "source": [
    "# 形態素解析"
   ],
   "metadata": {
    "collapsed": false,
    "pycharm": {
     "name": "#%% md\n"
    }
   }
  },
  {
   "cell_type": "code",
   "execution_count": 3,
   "outputs": [],
   "source": [
    "import spacy\n",
    "nlp: spacy.Language = spacy.load('ja_ginza')"
   ],
   "metadata": {
    "collapsed": false,
    "pycharm": {
     "name": "#%%\n"
    }
   }
  },
  {
   "cell_type": "code",
   "execution_count": 4,
   "outputs": [
    {
     "name": "stdout",
     "output_type": "stream",
     "text": [
      "ここでタスクとは、プログラムが解くべき課題を指し、例えば売上予測タスクであれば「明日の売上を予測せよ」といったタスクである。\n",
      "\n",
      "経験はなんらかのデータとしてプログラムに与えられる。このデータを訓練データもしくは学習データといい、売上予測タスクであれば例えば「過去の経験」である今日までの売上が訓練データとして与えられる。訓練データを使ってプログラムの性能を改善する過程を、「プログラムを訓練する」もしくは「プログラムを学習させる」という。またプログラムの訓練に用いられるデータ全体の集合を（訓練もしくは学習）データセット（データ集合とも）という。\n",
      "\n",
      "最後に性能指標は、プログラムがタスクをどの程度の性能で達成したかを測る指標で、前述の売上予測タスクであれば、例えば実際の売上との誤差を性能指標として用いる事ができる。\n",
      "\n"
     ]
    }
   ],
   "source": [
    "with open('data/sample.txt', 'r') as fp:\n",
    "    text = fp.read()\n",
    "\n",
    "print(text)"
   ],
   "metadata": {
    "collapsed": false,
    "pycharm": {
     "name": "#%%\n"
    }
   }
  },
  {
   "cell_type": "code",
   "execution_count": 28,
   "outputs": [],
   "source": [
    "text = '銀座でランチをご一緒しましょう。怖い。織田信長は戦った。'\n",
    "\n",
    "doc: spacy.tokens.doc.Doc = nlp(text)"
   ],
   "metadata": {
    "collapsed": false,
    "pycharm": {
     "name": "#%%\n"
    }
   }
  },
  {
   "cell_type": "code",
   "execution_count": 29,
   "outputs": [
    {
     "name": "stdout",
     "output_type": "stream",
     "text": [
      "銀座 で ランチ を ご 一緒 し ましょう 。 怖い 。 織田 信長 は 戦っ た 。\n"
     ]
    }
   ],
   "source": [
    "wakachi = [token.text for token in doc]\n",
    "wakachi_text = ' '.join(wakachi)\n",
    "print(wakachi_text)"
   ],
   "metadata": {
    "collapsed": false,
    "pycharm": {
     "name": "#%%\n"
    }
   }
  },
  {
   "cell_type": "code",
   "execution_count": 30,
   "outputs": [
    {
     "name": "stdout",
     "output_type": "stream",
     "text": [
      "銀座でランチをご一緒しましょう。\n",
      "0 銀座 ギンザ 銀座 PROPN 名詞-固有名詞-地名-一般 5 一緒 nmod B\n",
      "1 で デ で ADP 助詞-格助詞 0 銀座 case O\n",
      "2 ランチ ランチ ランチ NOUN 名詞-普通名詞-一般 5 一緒 obj O\n",
      "3 を ヲ を ADP 助詞-格助詞 2 ランチ case O\n",
      "4 ご ゴ ご NOUN 接頭辞 5 一緒 compound O\n",
      "5 一緒 イッショ 一緒 NOUN 名詞-普通名詞-サ変可能 5 一緒 ROOT O\n",
      "6 し シ する AUX 動詞-非自立可能 5 一緒 aux O\n",
      "7 ましょう マショウ ます AUX 助動詞 5 一緒 aux O\n",
      "8 。 。 。 PUNCT 補助記号-句点 5 一緒 punct O\n",
      "怖い。\n",
      "9 怖い コワイ 怖い ADJ 形容詞-一般 9 怖い ROOT O\n",
      "10 。 。 。 PUNCT 補助記号-句点 9 怖い punct O\n",
      "織田信長は戦った。\n",
      "11 織田 オダ 織田 PROPN 名詞-固有名詞-人名-姓 12 信長 compound B\n",
      "12 信長 ノブナガ 信長 PROPN 名詞-固有名詞-人名-名 14 戦っ nsubj I\n",
      "13 は ハ は ADP 助詞-係助詞 12 信長 case O\n",
      "14 戦っ タタカッ 戦う VERB 動詞-一般 14 戦っ ROOT O\n",
      "15 た タ た AUX 助動詞 14 戦っ aux O\n",
      "16 。 。 。 PUNCT 補助記号-句点 14 戦っ punct O\n"
     ]
    }
   ],
   "source": [
    "for sent in doc.sents:\n",
    "    print(sent.text)\n",
    "    for tk in sent:\n",
    "        print(tk.i, tk.orth_, tk.morph.get('Reading')[0], tk.lemma_, tk.pos_, tk.tag_, tk.head.i, tk.head.orth_, tk.dep_, tk.ent_iob_)"
   ],
   "metadata": {
    "collapsed": false,
    "pycharm": {
     "name": "#%%\n"
    }
   }
  },
  {
   "cell_type": "code",
   "execution_count": null,
   "outputs": [],
   "source": [],
   "metadata": {
    "collapsed": false,
    "pycharm": {
     "name": "#%%\n"
    }
   }
  }
 ],
 "metadata": {
  "kernelspec": {
   "display_name": "Python 3",
   "language": "python",
   "name": "python3"
  },
  "language_info": {
   "codemirror_mode": {
    "name": "ipython",
    "version": 2
   },
   "file_extension": ".py",
   "mimetype": "text/x-python",
   "name": "python",
   "nbconvert_exporter": "python",
   "pygments_lexer": "ipython2",
   "version": "2.7.6"
  }
 },
 "nbformat": 4,
 "nbformat_minor": 0
}